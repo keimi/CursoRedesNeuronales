{
 "cells": [
  {
   "cell_type": "code",
   "execution_count": 1,
   "metadata": {},
   "outputs": [
    {
     "name": "stdout",
     "output_type": "stream",
     "text": [
      "neuron: \n",
      "{ \n",
      "\t{ 0.1 0.2 } b: 0.1 z: None o: None d:None\n",
      "\t{ 0.2 0.3 } b: 0.1 z: None o: None d:None\n",
      "}\n",
      "{ \n",
      "\t{ 0.3 0.4 } b: 0.1 z: None o: None d:None\n",
      "}\n",
      "\n"
     ]
    }
   ],
   "source": [
    "from neuron_network import NeuronNetwork\n",
    "import numpy as np\n",
    "\n",
    "network = NeuronNetwork(2, 0.5)\n",
    "network.add_layer(2)\n",
    "network.add_layer(1)\n",
    "\n",
    "network.layers[0].neurons[0].weights = np.array([0.1, 0.2])\n",
    "network.layers[0].neurons[0].bias = 0.1\n",
    "\n",
    "network.layers[0].neurons[1].weights = np.array([0.2, 0.3])\n",
    "network.layers[0].neurons[1].bias = 0.1\n",
    "\n",
    "network.layers[1].neurons[0].weights = np.array([0.3, 0.4])\n",
    "network.layers[1].neurons[0].bias = 0.1\n",
    "\n",
    "print(network)"
   ]
  },
  {
   "cell_type": "code",
   "execution_count": 2,
   "metadata": {},
   "outputs": [
    {
     "data": {
      "text/plain": [
       "array([ 0.62874681])"
      ]
     },
     "execution_count": 2,
     "metadata": {},
     "output_type": "execute_result"
    }
   ],
   "source": [
    "network.feed(np.array([0.9, 0.8]))"
   ]
  },
  {
   "cell_type": "code",
   "execution_count": 3,
   "metadata": {},
   "outputs": [
    {
     "name": "stdout",
     "output_type": "stream",
     "text": [
      "neuron: [ 0.9  0.8]\n",
      "{ \n",
      "\t{ 0.102836984892 0.202521764349 } b: 0.103152205436 z: 0.35 o: 0.586617578917 d:0.00630441087144\n",
      "\t{ 0.203647500088 0.3032422223 } b: 0.104052777875 z: 0.52 o: 0.627147766313 d:0.00810555575063\n",
      "}\n",
      "{ \n",
      "\t{ 0.32541799292 0.427174155799 } b: 0.143329749796 z: 0.5268443802 o: 0.628746813509 d:0.0866594995911\n",
      "}\n",
      "\n"
     ]
    }
   ],
   "source": [
    "network.backpropagate_error(1.0)\n",
    "network.update_weights()\n",
    "print(network)\n"
   ]
  },
  {
   "cell_type": "code",
   "execution_count": null,
   "metadata": {
    "collapsed": true
   },
   "outputs": [],
   "source": []
  }
 ],
 "metadata": {
  "kernelspec": {
   "display_name": "Python 3",
   "language": "python",
   "name": "python3"
  },
  "language_info": {
   "codemirror_mode": {
    "name": "ipython",
    "version": 3
   },
   "file_extension": ".py",
   "mimetype": "text/x-python",
   "name": "python",
   "nbconvert_exporter": "python",
   "pygments_lexer": "ipython3",
   "version": "3.6.2"
  }
 },
 "nbformat": 4,
 "nbformat_minor": 2
}
