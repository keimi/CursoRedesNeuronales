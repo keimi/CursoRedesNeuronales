{
 "cells": [
  {
   "cell_type": "markdown",
   "metadata": {},
   "source": [
    "# Informe Tarea #\n",
    "\n",
    "## Introducción ##\n",
    "\n",
    "El objetivo de esta tarea es programar el código necesario para realizar experimentos de programación genetica y probar el código en ejemplos simples implementados para este propósito.\n",
    "\n",
    "Los experimentos desarrollados para esta tarea fueron:\n",
    "- Algoritmo de programación genetica para obtener el máximo entre dos ecuaciones\n",
    "- Algoritmo de programación genetica que simule el programa “Des Chiffres et des Lettres”\n",
    "\n"
   ]
  },
  {
   "cell_type": "markdown",
   "metadata": {},
   "source": [
    "## Experimentos ##\n",
    "\n",
    "### Máximo entre dos ecuaciones ###\n",
    "\n",
    "Para realizar este experimento se progamaron dos clases en el archivo abstract_tree.py, la clase Node y AbstractTree. Ambas clases se utilizaran luego como padres para implementar las clases para el segundo experimento.\n",
    "\n",
    "Tambien se utilizó el mismo algoritmo genético implementado para la tarea 3, con algunos ajustes para que aceptara arboles en vez de vectores. Se tuvo que implementar una clase Fit para cada experimento.\n",
    "\n",
    "#### Árboles Abstractos ####\n",
    "\n",
    "Se adjunta una pequeña muestra de como se utilizará las clases Node y AbstractTree para crear árboles aleatorios y cruza de árboles."
   ]
  },
  {
   "cell_type": "code",
   "execution_count": 8,
   "metadata": {},
   "outputs": [
    {
     "name": "stdout",
     "output_type": "stream",
     "text": [
      "----------------------\n",
      "tree1:\n",
      "<built-in function max>\n",
      "\t-\n",
      "\t\t2.8081084911721814\n",
      "\t\t+\n",
      "\t\t\t4.086464599149102\n",
      "\t\t\t-\n",
      "\t\t\t\t2.783206247367562\n",
      "\t\t\t\t-\n",
      "\t\t\t\t\t8.90348397684833\n",
      "\t\t\t\t\t8.446225641237628\n",
      "\t+\n",
      "\t\t0.24943011805749044\n",
      "\t\t-\n",
      "\t\t\t+\n",
      "\t\t\t\t7.221623134189392\n",
      "\t\t\t\t-\n",
      "\t\t\t\t\t9.595029852592443\n",
      "\t\t\t\t\t0.919830951260719\n",
      "\t\t\t-\n",
      "\t\t\t\t*\n",
      "\t\t\t\t\t3.1196801622063837\n",
      "\t\t\t\t\t4.020693939792881\n",
      "\t\t\t\t-\n",
      "\t\t\t\t\t8.795652401052326\n",
      "\t\t\t\t\t9.413956474163152\n",
      "\n",
      "----------------------\n",
      "tree2:\n",
      "<built-in function max>\n",
      "\t2.8566018139560487\n",
      "\t-\n",
      "\t\t+\n",
      "\t\t\t*\n",
      "\t\t\t\t+\n",
      "\t\t\t\t\t4.664609530621533\n",
      "\t\t\t\t\t0.9330043012582083\n",
      "\t\t\t\t*\n",
      "\t\t\t\t\t9.98163970881346\n",
      "\t\t\t\t\t3.4723321440615584\n",
      "\t\t\t1.6672096975088089\n",
      "\t\t2.4655638668061997\n",
      "\n",
      "----------------------\n",
      "hybrid:\n",
      "<built-in function max>\n",
      "\t-\n",
      "\t\t2.8566018139560487\n",
      "\t\t+\n",
      "\t\t\t4.086464599149102\n",
      "\t\t\t-\n",
      "\t\t\t\t2.783206247367562\n",
      "\t\t\t\t-\n",
      "\t\t\t\t\t8.90348397684833\n",
      "\t\t\t\t\t8.446225641237628\n",
      "\t+\n",
      "\t\t0.24943011805749044\n",
      "\t\t-\n",
      "\t\t\t+\n",
      "\t\t\t\t7.221623134189392\n",
      "\t\t\t\t-\n",
      "\t\t\t\t\t9.595029852592443\n",
      "\t\t\t\t\t0.919830951260719\n",
      "\t\t\t-\n",
      "\t\t\t\t*\n",
      "\t\t\t\t\t3.1196801622063837\n",
      "\t\t\t\t\t4.020693939792881\n",
      "\t\t\t\t-\n",
      "\t\t\t\t\t8.795652401052326\n",
      "\t\t\t\t\t9.413956474163152\n",
      "\n",
      "----------------------\n",
      "hybrid tree evaluate:  2.9846689581924997\n"
     ]
    }
   ],
   "source": [
    "from abstract_tree import AbstractTree\n",
    "from abstract_tree import Node\n",
    "\n",
    "# Crear dos arboles aleatorios de valores entre 0.01 y 10.0 de maximo depth 5\n",
    "tree1 = AbstractTree.random_tree(0.01, 10.0, 5)\n",
    "tree2 = AbstractTree.random_tree(0.01, 10.0, 5)\n",
    "\n",
    "# Visualizamos los arboles creados \n",
    "print(\"----------------------\")\n",
    "print('tree1:')\n",
    "print(tree1)\n",
    "print(\"----------------------\")\n",
    "print('tree2:')\n",
    "print(tree2)\n",
    "\n",
    "# Crear un hibrido de ambos árboles con nodos elegidos aleatoriamente \n",
    "hybrid = AbstractTree.cross_tree(tree1, tree2)\n",
    "\n",
    "# Visualizar la mezcla\n",
    "print(\"----------------------\")\n",
    "print('hybrid:')\n",
    "print(hybrid)\n",
    "\n",
    "# Evaluar el árbol hybrido\n",
    "print(\"----------------------\")\n",
    "print('hybrid tree evaluate: ', hybrid.evaluate())"
   ]
  },
  {
   "cell_type": "markdown",
   "metadata": {},
   "source": [
    "Los árboles aleatorios creados por AbstractTree tienen todos un nodo en común que tiene una funcón max, por lo que el algoritmo aleatorio intentara contruir un árbol hecho en base a mezclas de la población que maximice el resultado."
   ]
  },
  {
   "cell_type": "code",
   "execution_count": 26,
   "metadata": {},
   "outputs": [
    {
     "name": "stdout",
     "output_type": "stream",
     "text": [
      "iteration:  0  max fit:  209.518170447  mean fit:  13.0498696842\n",
      "iteration:  1  max fit:  214.3826497  mean fit:  29.8853308191\n",
      "iteration:  2  max fit:  1744.12866483  mean fit:  115.195832222\n",
      "iteration:  3  max fit:  49975.6732538  mean fit:  1312.85948607\n",
      "iteration:  4  max fit:  465035.467734  mean fit:  14896.6945172\n",
      "iteration:  5  max fit:  10054068.2134  mean fit:  170996.009273\n",
      "iteration:  6  max fit:  9208926683.46  mean fit:  117313819.837\n",
      "iteration:  7  max fit:  9.96752574882e+15  mean fit:  9.96757637089e+13\n",
      "iteration:  8  max fit:  9.96752574882e+15  mean fit:  74043892239.8\n",
      "iteration:  9  max fit:  2.39062416028e+18  mean fit:  2.66180368372e+16\n",
      "iteration:  10  max fit:  3.13093264605e+28  mean fit:  3.13093268865e+26\n",
      "iteration:  11  max fit:  5.96785245234e+36  mean fit:  5.96888993443e+34\n",
      "iteration:  12  max fit:  9.86339855867e+45  mean fit:  9.86942881405e+43\n",
      "iteration:  13  max fit:  5.04160367311e+48  mean fit:  5.13099847872e+46\n",
      "iteration:  14  max fit:  8.96902712763e+70  mean fit:  8.96902712763e+68\n",
      "tree found at iteration 15\n",
      " found:  4.756795301727761e+121\n"
     ]
    },
    {
     "data": {
      "image/png": "[encoded data removed]",
      "text/plain": [
       "<matplotlib.figure.Figure at 0x7fec895fc0b8>"
      ]
     },
     "metadata": {},
     "output_type": "display_data"
    }
   ],
   "source": [
    "import numpy as np\n",
    "import matplotlib.pyplot as plt\n",
    "from genetic import Genetic\n",
    "from genetic import FitAbstractTree\n",
    "\n",
    "max_depth = 3\n",
    "pop_size = 100\n",
    "max_generation = 300\n",
    "\n",
    "# clase de Fit especializada para el problema espcífico.\n",
    "fit_class = FitAbstractTree(None)\n",
    "\n",
    "asbtract_tree = Genetic(fitness_class=fit_class,\n",
    "                        gene_size=max_depth, \n",
    "                        population_size=pop_size, \n",
    "                        mut_rate=0.01,\n",
    "                        max_fitness=1E100,\n",
    "                        n_pool=None)\n",
    "\n",
    "fitest, best_vector, mean_vector = asbtract_tree.evolve(max_generation)\n",
    "\n",
    "max_generation = best_vector.size\n",
    "\n",
    "print('tree found at iteration', max_generation)\n",
    "print(' found: ', fitest.evaluate())\n",
    "line1 = plt.semilogy(np.array([i for i in range(max_generation)]), best_vector, label='best_individual_fitness')\n",
    "line2 = plt.semilogy(np.array([i for i in range(max_generation)]), mean_vector, '-r', label='mean_fitness')\n",
    "plt.legend(['best_individual_fitness', 'mean_fitness'])\n",
    "\n",
    "plt.ylabel('Fitness')\n",
    "plt.xlabel('Generation')\n",
    "\n",
    "\n",
    "plt.show()"
   ]
  },
  {
   "cell_type": "markdown",
   "metadata": {},
   "source": [
    "Se observa una curva exponencial en las funciones fitness del mejor individuo y la media de la población. En 15 generaciones se encuentra una ecuación que obtiene un resultado mayor a 1E100. Se adjunta también la clase Fit que se implemento en el archivo genetic.py."
   ]
  },
  {
   "cell_type": "code",
   "execution_count": 27,
   "metadata": {
    "collapsed": true
   },
   "outputs": [],
   "source": [
    "# # Fit class for abstract tree\n",
    "# class FitAbstractTree(Fit):\n",
    "#     tree=AbstractTree\n",
    "# \n",
    "#     def random_individual(self, gene_num):\n",
    "#         # for abstract tree the gene number will be the maximum level available\n",
    "#         return self.tree.random_tree(0.01, 10.0, gene_num)\n",
    "# \n",
    "#     def evaluate(self, vec):\n",
    "#         return vec.evaluate()\n",
    "# \n",
    "#     def reproduce_parents(self, p1, p2):\n",
    "#         return self.tree.cross_tree(p1,p2)\n",
    "# \n",
    "#     def mut_func(self, individual, mut_rate):\n",
    "#         # Change one gene if mutation is activated\n",
    "#         if random.uniform(0, 1) <= mut_rate:\n",
    "#             return self.tree.cross_tree(individual, self.tree.random_tree(0.01, 10.0, 3))\n",
    "#         else:\n",
    "#             return individual"
   ]
  },
  {
   "cell_type": "markdown",
   "metadata": {},
   "source": [
    "### “Des Chiffres et des Lettres” ###\n",
    "\n",
    "Para este experimento se realizó un algoritmo genético que intenta encontrar una ecuación que llegue a un target específico, utilizando solo un set de números.\n",
    "\n",
    "Para llevar a cabo esta implementación, se desarrollo dos nuevas clases ChNode y ChTree, ambas hijos de Node y AbstractTree correpondientemente. En ChNode se guarda un set de datos que se pueden utilizar y se cambia la funcion de división por una floor_division que protege cuando se divide por cero.\n",
    "\n",
    "A continuación se muestra un ejemplo utilizando estas clases.\n",
    "\n"
   ]
  },
  {
   "cell_type": "code",
   "execution_count": 32,
   "metadata": {},
   "outputs": [
    {
     "name": "stdout",
     "output_type": "stream",
     "text": [
      "----------------------\n",
      "tree1:\n",
      "/\n",
      "\t6\n",
      "\t6\n",
      "\n",
      "----------------------\n",
      "tree2:\n",
      "*\n",
      "\t-\n",
      "\t\t*\n",
      "\t\t\t1\n",
      "\t\t\t/\n",
      "\t\t\t\t3\n",
      "\t\t\t\t-\n",
      "\t\t\t\t\t25\n",
      "\t\t\t\t\t9\n",
      "\t\t10\n",
      "\t*\n",
      "\t\t-\n",
      "\t\t\t/\n",
      "\t\t\t\t1\n",
      "\t\t\t\t/\n",
      "\t\t\t\t\t3\n",
      "\t\t\t\t\t9\n",
      "\t\t\t1\n",
      "\t\t10\n",
      "\n",
      "----------------------\n",
      "hybrid:\n",
      "/\n",
      "\t6\n",
      "\t10\n",
      "\n",
      "----------------------\n",
      "hybrid tree evaluate:  0\n"
     ]
    }
   ],
   "source": [
    "from chiffres_tree import ChTree\n",
    "from chiffres_tree import ChNode\n",
    "\n",
    "# Creamos dos arboles aleatorios\n",
    "ChNode.number_set = [10, 1, 25, 9, 3, 6]\n",
    "tree1 = ChTree.random_tree(max_level=5, node_class=ChNode)\n",
    "tree2 = ChTree.random_tree(max_level=5, node_class=ChNode)\n",
    "\n",
    "# Visualizamos los arboles creados \n",
    "print(\"----------------------\")\n",
    "print('tree1:')\n",
    "print(tree1)\n",
    "print(\"----------------------\")\n",
    "print('tree2:')\n",
    "print(tree2)\n",
    "\n",
    "# Crear un hibrido de ambos árboles con nodos elegidos aleatoriamente \n",
    "hybrid = ChTree.cross_tree(tree1, tree2)\n",
    "\n",
    "# Visualizar la mezcla\n",
    "print(\"----------------------\")\n",
    "print('hybrid:')\n",
    "print(hybrid)\n",
    "\n",
    "# Evaluar el árbol hybrido\n",
    "print(\"----------------------\")\n",
    "print('hybrid tree evaluate: ', hybrid.evaluate())"
   ]
  },
  {
   "cell_type": "markdown",
   "metadata": {},
   "source": [
    "Finalmente con estas nuevas clases se implementa una nueva clase Fit adaptada al modelo (con una función fitness especial) y se corre el experimento."
   ]
  },
  {
   "cell_type": "code",
   "execution_count": 36,
   "metadata": {},
   "outputs": [
    {
     "name": "stdout",
     "output_type": "stream",
     "text": [
      "iteration:  0  max fit:  -97  mean fit:  -3.2709999999999997e+201\n",
      "iteration:  1  max fit:  -53  mean fit:  -338.15\n",
      "iteration:  2  max fit:  -7  mean fit:  -554.61\n",
      "iteration:  3  max fit:  -7  mean fit:  -1198.43\n",
      "iteration:  4  max fit:  -7  mean fit:  -2e+198\n",
      "iteration:  5  max fit:  -7  mean fit:  -1e+198\n",
      "iteration:  6  max fit:  -3  mean fit:  -1159.84\n",
      "iteration:  7  max fit:  -3  mean fit:  -1e+198\n",
      "iteration:  8  max fit:  -3  mean fit:  -1311.75\n",
      "iteration:  9  max fit:  -3  mean fit:  -2330.51\n",
      "iteration:  10  max fit:  -3  mean fit:  -1e+198\n",
      "iteration:  11  max fit:  -2  mean fit:  -1160.25\n",
      "iteration:  12  max fit:  -1  mean fit:  -783.53\n",
      "iteration:  13  max fit:  -1  mean fit:  -2067.37\n",
      "iteration:  14  max fit:  -1  mean fit:  -1913.09\n",
      "iteration:  15  max fit:  -1  mean fit:  -1269.39\n",
      "iteration:  16  max fit:  -1  mean fit:  -1022.56\n",
      "iteration:  17  max fit:  -1  mean fit:  -1.9e+199\n",
      "iteration:  18  max fit:  -1  mean fit:  -1.9e+199\n",
      "iteration:  19  max fit:  -1  mean fit:  -1914.72\n",
      "iteration:  20  max fit:  -1  mean fit:  -2.7e+199\n",
      "iteration:  21  max fit:  -1  mean fit:  -1833.21\n",
      "iteration:  22  max fit:  -1  mean fit:  -1255.53\n",
      "iteration:  23  max fit:  -1  mean fit:  -985.36\n",
      "iteration:  24  max fit:  -1  mean fit:  -1819.47\n",
      "iteration:  25  max fit:  -1  mean fit:  -4.2e+199\n",
      "iteration:  26  max fit:  -1  mean fit:  -560.21\n",
      "iteration:  27  max fit:  -1  mean fit:  -2410.15\n",
      "iteration:  28  max fit:  -1  mean fit:  -5.999999999999999e+198\n",
      "iteration:  29  max fit:  -1  mean fit:  -1453.08\n",
      "iteration:  30  max fit:  -1  mean fit:  -1111.67\n",
      "iteration:  31  max fit:  -1  mean fit:  -1185.67\n",
      "iteration:  32  max fit:  -1  mean fit:  -714.43\n",
      "iteration:  33  max fit:  -1  mean fit:  -1483.56\n",
      "iteration:  34  max fit:  -1  mean fit:  -881.44\n",
      "iteration:  35  max fit:  -1  mean fit:  -924.06\n",
      "iteration:  36  max fit:  -1  mean fit:  -1049.72\n",
      "iteration:  37  max fit:  -1  mean fit:  -307.85\n",
      "iteration:  38  max fit:  -1  mean fit:  -1014.08\n",
      "iteration:  39  max fit:  -1  mean fit:  -1673.42\n",
      "iteration:  40  max fit:  -1  mean fit:  -1.8e+199\n",
      "iteration:  41  max fit:  -1  mean fit:  -507.64\n",
      "iteration:  42  max fit:  -1  mean fit:  -1033.68\n",
      "iteration:  43  max fit:  -1  mean fit:  -8e+198\n",
      "iteration:  44  max fit:  -1  mean fit:  -1561.22\n",
      "iteration:  45  max fit:  -1  mean fit:  -3.6e+199\n",
      "iteration:  46  max fit:  -1  mean fit:  -4.3999999999999995e+199\n",
      "iteration:  47  max fit:  -1  mean fit:  -463.12\n",
      "iteration:  48  max fit:  -1  mean fit:  -1207.89\n",
      "iteration:  49  max fit:  -1  mean fit:  -430.79\n",
      "iteration:  50  max fit:  -1  mean fit:  -334.19\n",
      "iteration:  51  max fit:  -1  mean fit:  -1049.65\n",
      "tree found at iteration 52\n",
      "found evaluate:  347\n"
     ]
    },
    {
     "data": {
      "image/png": "[encoded data removed]",
      "text/plain": [
       "<matplotlib.figure.Figure at 0x7fec85bc2470>"
      ]
     },
     "metadata": {},
     "output_type": "display_data"
    }
   ],
   "source": [
    "import numpy as np\n",
    "import matplotlib.pyplot as plt\n",
    "from genetic import Genetic\n",
    "from genetic import FitChTree\n",
    "from chiffres_tree import ChNode\n",
    "\n",
    "gen_size = 5\n",
    "pop_size = 100\n",
    "max_generation = 300\n",
    "# answer = np.array([random.randint(0, 1) for i in range(vec_size)])\n",
    "\n",
    "fit_class = FitChTree(347)\n",
    "ChNode.number_set = [10, 1, 25, 9, 3, 6]\n",
    "\n",
    "asbtract_tree = Genetic(fitness_class=fit_class, gene_size=gen_size, population_size=pop_size, mut_rate=0.1,\n",
    "                  max_fitness=0, n_pool=None)\n",
    "fitest, best_vector, mean_vector = asbtract_tree.evolve(max_generation)\n",
    "max_generation = best_vector.size\n",
    "\n",
    "print('tree found at iteration', max_generation)\n",
    "print('found evaluate: ', fitest.evaluate())\n",
    "plt.plot(np.array([i for i in range(max_generation)]), best_vector)\n",
    "\n",
    "# No graficaremos la media pk tiene valores muy grandes y entorpecen la visualización.\n",
    "# plt.plot(np.array([i for i in range(max_generation)]), mean_vector, '-r')\n",
    "\n",
    "plt.legend(['best_individual_fitness'])\n",
    "\n",
    "plt.ylabel('Fitness')\n",
    "plt.xlabel('Generation')\n",
    "\n",
    "plt.show()"
   ]
  },
  {
   "cell_type": "markdown",
   "metadata": {},
   "source": [
    "Se observa que la curva baja muy rapidamente a -1 en pocas iteraciones y que luego se demora un tiempo en encontrar la ecuación. Tambien es de notar que depende mucho de las condiciones iniciales la cantidad de iteraciones que se necesitaran para encontrar la solución.\n",
    "\n",
    "A continuación de deja como anexo la clase Fit que se utilizó para el algoritmo."
   ]
  },
  {
   "cell_type": "code",
   "execution_count": null,
   "metadata": {
    "collapsed": true
   },
   "outputs": [],
   "source": [
    "# class FitChTree(FitAbstractTree):\n",
    "#     tree=ChTree\n",
    "# \n",
    "#     def evaluate(self, vec):\n",
    "#         return -abs( vec.evaluate() - self.ref)\n"
   ]
  }
 ],
 "metadata": {
  "kernelspec": {
   "display_name": "Python 3",
   "language": "python",
   "name": "python3"
  },
  "language_info": {
   "codemirror_mode": {
    "name": "ipython",
    "version": 3
   },
   "file_extension": ".py",
   "mimetype": "text/x-python",
   "name": "python",
   "nbconvert_exporter": "python",
   "pygments_lexer": "ipython3",
   "version": "3.6.2"
  }
 },
 "nbformat": 4,
 "nbformat_minor": 2
}
