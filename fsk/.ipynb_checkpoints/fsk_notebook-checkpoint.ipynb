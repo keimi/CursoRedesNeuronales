{
 "cells": [
  {
   "cell_type": "code",
   "execution_count": 25,
   "metadata": {},
   "outputs": [],
   "source": [
    "import numpy as np\n",
    "import pylab as pl\n",
    "import scipy.signal.signaltools as sigtool\n",
    "import scipy.signal as signal\n",
    "from numpy.random import sample\n",
    "import random\n",
    "\n",
    "#the following variables setup the system\n",
    "Fc = 1000       #simulate a carrier frequency of 1kHz\n",
    "Fbit = 50       #simulated bitrate of data\n",
    "Fdev = 500      #frequency deviation, make higher than bitrate\n",
    "N = 64          #how many bits to send\n",
    "A = 1           #transmitted signal amplitude\n",
    "Fs = 10000      #sampling frequency for the simulator, must be higher than twice the carrier frequency\n",
    "A_n = 0.1       #noise peak amplitude\n",
    "N_prntbits = 10 #number of bits to print in plots\n",
    "\n",
    "def plot_data(y):\n",
    "    #view the data in time and frequency domain\n",
    "    #calculate the frequency domain for viewing purposes\n",
    "    N_FFT = float(len(y))\n",
    "    f = np.arange(0,Fs/2,Fs/N_FFT)\n",
    "    w = np.hanning(len(y))\n",
    "    y_f = np.fft.fft(np.multiply(y,w))\n",
    "#     y_f = y_f[0:int(N_FFT/2)]/N_FFT\n",
    "    y_f = 10*np.log10(np.abs(y_f[0:int(N_FFT/2)]/N_FFT))\n",
    "    pl.subplot(3,1,1)\n",
    "    pl.plot(t[0:Fs*N_prntbits/Fbit],m[0:Fs*N_prntbits/Fbit])\n",
    "    pl.xlabel('Time (s)')\n",
    "    pl.ylabel('Frequency (Hz)')\n",
    "    pl.title('Original VCO output versus time')\n",
    "    pl.grid(True)\n",
    "    pl.subplot(3,1,2)\n",
    "    pl.plot(t[0:Fs*N_prntbits/Fbit],y[0:Fs*N_prntbits/Fbit])\n",
    "    pl.xlabel('Time (s)')\n",
    "    pl.ylabel('Amplitude (V)')\n",
    "    pl.title('Amplitude of carrier versus time')\n",
    "    pl.grid(True)\n",
    "    pl.subplot(3,1,3)\n",
    "    pl.plot(f[0:(Fc+Fdev*2)*N_FFT/Fs],y_f[0:(Fc+Fdev*2)*N_FFT/Fs])\n",
    "    pl.xlabel('Frequency (Hz)')\n",
    "    pl.ylabel('Amplitude (dB)')\n",
    "    pl.title('Spectrum')\n",
    "    pl.grid(True)\n",
    "    pl.tight_layout()\n",
    "    pl.show()\n",
    "    \n"
   ]
  },
  {
   "cell_type": "code",
   "execution_count": 26,
   "metadata": {},
   "outputs": [
    {
     "data": {
      "text/plain": [
       "(64,)"
      ]
     },
     "execution_count": 26,
     "metadata": {},
     "output_type": "execute_result"
    }
   ],
   "source": [
    "\"\"\"\n",
    "Data in\n",
    "\"\"\"\n",
    "#generate some random data for testing\n",
    "data_in = np.array([random.randint (0,1) for n in range(N)])\n",
    "# data_in = np.random.random_integers(0,1,N)\n",
    "data_in.shape"
   ]
  },
  {
   "cell_type": "code",
   "execution_count": 27,
   "metadata": {},
   "outputs": [
    {
     "ename": "TypeError",
     "evalue": "slice indices must be integers or None or have an __index__ method",
     "output_type": "error",
     "traceback": [
      "\u001b[0;31m---------------------------------------------------------------------------\u001b[0m",
      "\u001b[0;31mTypeError\u001b[0m                                 Traceback (most recent call last)",
      "\u001b[0;32m<ipython-input-27-f4abfa9e6a6d>\u001b[0m in \u001b[0;36m<module>\u001b[0;34m()\u001b[0m\n\u001b[1;32m     23\u001b[0m \u001b[0;31m# y.shape\u001b[0m\u001b[0;34m\u001b[0m\u001b[0;34m\u001b[0m\u001b[0m\n\u001b[1;32m     24\u001b[0m \u001b[0;31m# plot(y, t)\u001b[0m\u001b[0;34m\u001b[0m\u001b[0;34m\u001b[0m\u001b[0m\n\u001b[0;32m---> 25\u001b[0;31m \u001b[0mplot_data\u001b[0m\u001b[0;34m(\u001b[0m\u001b[0my\u001b[0m\u001b[0;34m)\u001b[0m\u001b[0;34m\u001b[0m\u001b[0m\n\u001b[0m",
      "\u001b[0;32m<ipython-input-25-96a1d8408c28>\u001b[0m in \u001b[0;36mplot_data\u001b[0;34m(y)\u001b[0m\n\u001b[1;32m     38\u001b[0m     \u001b[0mpl\u001b[0m\u001b[0;34m.\u001b[0m\u001b[0mgrid\u001b[0m\u001b[0;34m(\u001b[0m\u001b[0mTrue\u001b[0m\u001b[0;34m)\u001b[0m\u001b[0;34m\u001b[0m\u001b[0m\n\u001b[1;32m     39\u001b[0m     \u001b[0mpl\u001b[0m\u001b[0;34m.\u001b[0m\u001b[0msubplot\u001b[0m\u001b[0;34m(\u001b[0m\u001b[0;36m3\u001b[0m\u001b[0;34m,\u001b[0m\u001b[0;36m1\u001b[0m\u001b[0;34m,\u001b[0m\u001b[0;36m3\u001b[0m\u001b[0;34m)\u001b[0m\u001b[0;34m\u001b[0m\u001b[0m\n\u001b[0;32m---> 40\u001b[0;31m     \u001b[0mpl\u001b[0m\u001b[0;34m.\u001b[0m\u001b[0mplot\u001b[0m\u001b[0;34m(\u001b[0m\u001b[0mf\u001b[0m\u001b[0;34m[\u001b[0m\u001b[0;36m0\u001b[0m\u001b[0;34m:\u001b[0m\u001b[0;34m(\u001b[0m\u001b[0mFc\u001b[0m\u001b[0;34m+\u001b[0m\u001b[0mFdev\u001b[0m\u001b[0;34m*\u001b[0m\u001b[0;36m2\u001b[0m\u001b[0;34m)\u001b[0m\u001b[0;34m*\u001b[0m\u001b[0mN_FFT\u001b[0m\u001b[0;34m/\u001b[0m\u001b[0mFs\u001b[0m\u001b[0;34m]\u001b[0m\u001b[0;34m,\u001b[0m\u001b[0my_f\u001b[0m\u001b[0;34m[\u001b[0m\u001b[0;36m0\u001b[0m\u001b[0;34m:\u001b[0m\u001b[0;34m(\u001b[0m\u001b[0mFc\u001b[0m\u001b[0;34m+\u001b[0m\u001b[0mFdev\u001b[0m\u001b[0;34m*\u001b[0m\u001b[0;36m2\u001b[0m\u001b[0;34m)\u001b[0m\u001b[0;34m*\u001b[0m\u001b[0mN_FFT\u001b[0m\u001b[0;34m/\u001b[0m\u001b[0mFs\u001b[0m\u001b[0;34m]\u001b[0m\u001b[0;34m)\u001b[0m\u001b[0;34m\u001b[0m\u001b[0m\n\u001b[0m\u001b[1;32m     41\u001b[0m     \u001b[0mpl\u001b[0m\u001b[0;34m.\u001b[0m\u001b[0mxlabel\u001b[0m\u001b[0;34m(\u001b[0m\u001b[0;34m'Frequency (Hz)'\u001b[0m\u001b[0;34m)\u001b[0m\u001b[0;34m\u001b[0m\u001b[0m\n\u001b[1;32m     42\u001b[0m     \u001b[0mpl\u001b[0m\u001b[0;34m.\u001b[0m\u001b[0mylabel\u001b[0m\u001b[0;34m(\u001b[0m\u001b[0;34m'Amplitude (dB)'\u001b[0m\u001b[0;34m)\u001b[0m\u001b[0;34m\u001b[0m\u001b[0m\n",
      "\u001b[0;31mTypeError\u001b[0m: slice indices must be integers or None or have an __index__ method"
     ]
    }
   ],
   "source": [
    "\"\"\"\n",
    "VCO\n",
    "\"\"\"\n",
    "# one second of data \n",
    "t = np.arange(0,float(N)/float(Fbit),1/float(Fs), dtype=np.float)\n",
    "\n",
    "#extend the data_in to account for the bitrate and convert 0/1 to frequency\n",
    "m = np.zeros(0).astype(float)\n",
    "# print(Fc-Fdev)\n",
    "for bit in data_in:\n",
    "    if bit == 0:\n",
    "        m=np.hstack((m,np.multiply(np.ones(int(Fs/Fbit)),Fc+Fdev).astype(float)))\n",
    "    else:\n",
    "        m=np.hstack((m,np.multiply(np.ones(int(Fs/Fbit)),Fc-Fdev).astype(float)))\n",
    "\n",
    "m\n",
    "              \n",
    "#         m=np.hstack((m,np.multiply(np.ones(Fs/Fbit),Fc-Fdev).astype(float)))\n",
    "# m\n",
    "# #calculate the output of the VCO\n",
    "y=np.zeros(0)\n",
    "y=A * np.cos(2*np.pi*np.multiply(m,t))\n",
    "# y.shape\n",
    "# plot(y, t)\n",
    "plot_data(y)"
   ]
  },
  {
   "cell_type": "code",
   "execution_count": null,
   "metadata": {
    "collapsed": true
   },
   "outputs": [],
   "source": []
  },
  {
   "cell_type": "code",
   "execution_count": null,
   "metadata": {
    "collapsed": true
   },
   "outputs": [],
   "source": []
  }
 ],
 "metadata": {
  "kernelspec": {
   "display_name": "Python 3",
   "language": "python",
   "name": "python3"
  },
  "language_info": {
   "codemirror_mode": {
    "name": "ipython",
    "version": 2
   },
   "file_extension": ".py",
   "mimetype": "text/x-python",
   "name": "python",
   "nbconvert_exporter": "python",
   "pygments_lexer": "ipython2",
   "version": "2.7.13"
  }
 },
 "nbformat": 4,
 "nbformat_minor": 2
}
